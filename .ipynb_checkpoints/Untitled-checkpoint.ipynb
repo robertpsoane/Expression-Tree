{
 "cells": [
  {
   "cell_type": "code",
   "execution_count": 12,
   "metadata": {},
   "outputs": [],
   "source": [
    "class Expr : # abstract class\n",
    "    #pass # eval (self:Expr,env:dictionary) : Int returns a number.\n",
    "\n",
    "    def checkEquality(self, other, env):\n",
    "        self_value = self.eval(env)\n",
    "        other_value = other.eval(env)\n",
    "        return self_value == other_value\n",
    "\n",
    "class Var (Expr) :\n",
    "    def __init__(self,name) :\n",
    "        self.name = name\n",
    "    \n",
    "    def eval(self,env) :\n",
    "        return env[self.name]\n",
    "    \n",
    "    def __str__(self) :\n",
    "        return self.name\n",
    "\n",
    "\n",
    "class Const (Expr) :\n",
    "    def __init__(self,value) :\n",
    "        self.value = value\n",
    "    def eval(self,env) :\n",
    "        return self.value\n",
    "    def __str__(self) :\n",
    "        return str(self.value)\n",
    "\n",
    "\n",
    "class BinOp(Expr) : # abstract class\n",
    "    def __init__(self,left,right) :\n",
    "        self.left = left\n",
    "        self.right = right\n",
    "    \n",
    "    # op(int,int) : int\n",
    "    \n",
    "    def eval(self,env) :\n",
    "        return self.op(self.left.eval(env),self.right.eval(env))\n",
    "\n",
    "    def __str__(self):\n",
    "        left_var = self.left\n",
    "        right_var = self.right\n",
    "        op_sign = self.op_sign\n",
    "        return f\"{left_var}{op_sign}{right_var}\"\n",
    "\n",
    "\n",
    "class Plus(BinOp) :\n",
    "    op_sign = '+'\n",
    "\n",
    "    def op(self,x,y) :\n",
    "        return x+y\n",
    "\n",
    "    def __str__(self) :\n",
    "        return f\"({BinOp.__str__(self)})\"\n",
    "\n",
    "\n",
    "# return str(self.left)+\"+\"+str(self.right)\n",
    "# return self.left.__str__()+\"+\"+self.right.__str__()\n",
    "# now we see that __str__ is actually recursive!\n",
    "class Times(BinOp) :\n",
    "    op_sign = '*'\n",
    "\n",
    "    def op(self,x,y) :\n",
    "        return x*y\n"
   ]
  },
  {
   "cell_type": "code",
   "execution_count": 13,
   "metadata": {},
   "outputs": [],
   "source": [
    "e1 = Times(\n",
    "    Plus(\n",
    "        Var(\"x\"),\n",
    "        Const(2)\n",
    "        ),\n",
    "    Var(\"y\")\n",
    "    )\n",
    "\n",
    "e2 = Plus(\n",
    "    Var(\"x\"),\n",
    "    Times(\n",
    "        Const(2),\n",
    "        Var(\"y\")\n",
    "        )\n",
    "    )\n",
    "\n",
    "e3 = Plus(\n",
    "    Times(\n",
    "        Var(\"x\"),\n",
    "        Var(\"x\")\n",
    "        ),\n",
    "    Plus(\n",
    "        Times(Var(\"x\"),Var(\"y\")),\n",
    "        Times(\n",
    "            Var(\"y\"),\n",
    "            Times(\n",
    "                Var(\"y\"),\n",
    "                Var(\"y\")\n",
    "                )\n",
    "            )\n",
    "        )\n",
    "    )\n",
    "\n",
    "e4 = Times(\n",
    "    Var(\"x\"),\n",
    "    Var(\"y\")\n",
    "    )\n",
    "\n",
    "e5 = Times(\n",
    "    Var(\"y\"),\n",
    "    Var(\"x\")\n",
    ")\n",
    "\n",
    "env_data = {\n",
    "    'x': 2,\n",
    "    'y': 3\n",
    "}"
   ]
  },
  {
   "cell_type": "code",
   "execution_count": 14,
   "metadata": {},
   "outputs": [
    {
     "name": "stdout",
     "output_type": "stream",
     "text": [
      "(x+2)*y\n",
      "(x+2*y)\n",
      "(x*x+(x*y+y*y*y))\n",
      "x*y\n",
      "y*x\n"
     ]
    }
   ],
   "source": [
    "print(e1)\n",
    "print(e2)\n",
    "print(e3)\n",
    "print(e4)\n",
    "print(e5)"
   ]
  },
  {
   "cell_type": "code",
   "execution_count": 15,
   "metadata": {},
   "outputs": [
    {
     "ename": "TypeError",
     "evalue": "checkEquality() takes 2 positional arguments but 3 were given",
     "output_type": "error",
     "traceback": [
      "\u001b[1;31m---------------------------------------------------------------------------\u001b[0m",
      "\u001b[1;31mTypeError\u001b[0m                                 Traceback (most recent call last)",
      "\u001b[1;32m<ipython-input-15-d1d1296a122c>\u001b[0m in \u001b[0;36m<module>\u001b[1;34m\u001b[0m\n\u001b[1;32m----> 1\u001b[1;33m \u001b[0me1\u001b[0m\u001b[1;33m.\u001b[0m\u001b[0mcheckEquality\u001b[0m\u001b[1;33m(\u001b[0m\u001b[0me2\u001b[0m\u001b[1;33m,\u001b[0m \u001b[0menv_data\u001b[0m\u001b[1;33m)\u001b[0m\u001b[1;33m\u001b[0m\u001b[1;33m\u001b[0m\u001b[0m\n\u001b[0m",
      "\u001b[1;31mTypeError\u001b[0m: checkEquality() takes 2 positional arguments but 3 were given"
     ]
    }
   ],
   "source": [
    "e1.checkEquality(e2, env_data)"
   ]
  },
  {
   "cell_type": "code",
   "execution_count": null,
   "metadata": {},
   "outputs": [],
   "source": []
  }
 ],
 "metadata": {
  "kernelspec": {
   "display_name": "Python 3",
   "language": "python",
   "name": "python3"
  },
  "language_info": {
   "codemirror_mode": {
    "name": "ipython",
    "version": 3
   },
   "file_extension": ".py",
   "mimetype": "text/x-python",
   "name": "python",
   "nbconvert_exporter": "python",
   "pygments_lexer": "ipython3",
   "version": "3.8.3"
  }
 },
 "nbformat": 4,
 "nbformat_minor": 4
}
