{
 "cells": [
  {
   "cell_type": "code",
   "execution_count": 12,
   "metadata": {},
   "outputs": [],
   "source": [
    "class Expr : # abstract class\n",
    "    #pass # eval (self:Expr,env:dictionary) : Int returns a number.\n",
    "\n",
    "    def checkEquality(self, other, env):\n",
    "        self_value = self.eval(env)\n",
    "        other_value = other.eval(env)\n",
    "        return self_value == other_value\n",
    "\n",
    "class Var (Expr) :\n",
    "    def __init__(self,name) :\n",
    "        self.name = name\n",
    "    \n",
    "    def eval(self,env) :\n",
    "        return env[self.name]\n",
    "    \n",
    "    def __str__(self) :\n",
    "        return self.name\n",
    "\n",
    "\n",
    "class Const (Expr) :\n",
    "    def __init__(self,value) :\n",
    "        self.value = value\n",
    "    def eval(self,env) :\n",
    "        return self.value\n",
    "    def __str__(self) :\n",
    "        return str(self.value)\n",
    "\n",
    "\n",
    "class BinOp(Expr) : # abstract class\n",
    "    def __init__(self,left,right) :\n",
    "        self.left = left\n",
    "        self.right = right\n",
    "    \n",
    "    # op(int,int) : int\n",
    "    \n",
    "    def eval(self,env) :\n",
    "        return self.op(self.left.eval(env),self.right.eval(env))\n",
    "\n",
    "    def __str__(self):\n",
    "        left_var = self.left\n",
    "        right_var = self.right\n",
    "        op_sign = self.op_sign\n",
    "        return f\"{left_var}{op_sign}{right_var}\"\n",
    "\n",
    "\n",
    "class Plus(BinOp) :\n",
    "    op_sign = '+'\n",
    "\n",
    "    def op(self,x,y) :\n",
    "        return x+y\n",
    "\n",
    "    def __str__(self) :\n",
    "        return f\"({BinOp.__str__(self)})\"\n",
    "\n",
    "\n",
    "# return str(self.left)+\"+\"+str(self.right)\n",
    "# return self.left.__str__()+\"+\"+self.right.__str__()\n",
    "# now we see that __str__ is actually recursive!\n",
    "class Times(BinOp) :\n",
    "    op_sign = '*'\n",
    "\n",
    "    def op(self,x,y) :\n",
    "        return x*y\n"
   ]
  },
  {
   "cell_type": "code",
   "execution_count": 16,
   "metadata": {},
   "outputs": [],
   "source": [
    "e1 = Times(\n",
    "    Plus(\n",
    "        Var(\"x\"),\n",
    "        Const(2)\n",
    "        ),\n",
    "    Var(\"y\")\n",
    "    )\n",
    "\n",
    "e2 = Plus(\n",
    "    Var(\"x\"),\n",
    "    Times(\n",
    "        Const(2),\n",
    "        Var(\"y\")\n",
    "        )\n",
    "    )\n",
    "\n",
    "e3 = Plus(\n",
    "    Times(\n",
    "        Var(\"x\"),\n",
    "        Var(\"x\")\n",
    "        ),\n",
    "    Plus(\n",
    "        Times(Var(\"x\"),Var(\"y\")),\n",
    "        Times(\n",
    "            Var(\"y\"),\n",
    "            Times(\n",
    "                Var(\"y\"),\n",
    "                Var(\"y\")\n",
    "                )\n",
    "            )\n",
    "        )\n",
    "    )\n",
    "\n",
    "e4 = Times(\n",
    "    Var(\"x\"),\n",
    "    Var(\"y\")\n",
    "    )\n",
    "\n",
    "e5 = Times(\n",
    "    Var(\"y\"),\n",
    "    Var(\"x\")\n",
    ")\n",
    "\n",
    "env_data = {\n",
    "    'x': 2,\n",
    "    'y': 3\n",
    "}"
   ]
  },
  {
   "cell_type": "code",
   "execution_count": 17,
   "metadata": {},
   "outputs": [
    {
     "name": "stdout",
     "output_type": "stream",
     "text": [
      "(x+2)*y\n",
      "(x+2*y)\n",
      "(x*x+(x*y+y*y*y))\n",
      "x*y\n",
      "y*x\n"
     ]
    }
   ],
   "source": [
    "print(e1)\n",
    "print(e2)\n",
    "print(e3)\n",
    "print(e4)\n",
    "print(e5)"
   ]
  },
  {
   "cell_type": "code",
   "execution_count": 18,
   "metadata": {},
   "outputs": [
    {
     "data": {
      "text/plain": [
       "False"
      ]
     },
     "execution_count": 18,
     "metadata": {},
     "output_type": "execute_result"
    }
   ],
   "source": [
    "e1.checkEquality(e2, env_data)"
   ]
  },
  {
   "cell_type": "code",
   "execution_count": 19,
   "metadata": {},
   "outputs": [
    {
     "data": {
      "text/plain": [
       "True"
      ]
     },
     "execution_count": 19,
     "metadata": {},
     "output_type": "execute_result"
    }
   ],
   "source": [
    "e2.checkEquality(e2, env_data)"
   ]
  },
  {
   "cell_type": "code",
   "execution_count": 20,
   "metadata": {},
   "outputs": [
    {
     "data": {
      "text/plain": [
       "True"
      ]
     },
     "execution_count": 20,
     "metadata": {},
     "output_type": "execute_result"
    }
   ],
   "source": [
    "e4.checkEquality(e4, env_data)"
   ]
  },
  {
   "cell_type": "code",
   "execution_count": null,
   "metadata": {},
   "outputs": [],
   "source": []
  }
 ],
 "metadata": {
  "kernelspec": {
   "display_name": "Python 3",
   "language": "python",
   "name": "python3"
  },
  "language_info": {
   "codemirror_mode": {
    "name": "ipython",
    "version": 3
   },
   "file_extension": ".py",
   "mimetype": "text/x-python",
   "name": "python",
   "nbconvert_exporter": "python",
   "pygments_lexer": "ipython3",
   "version": "3.8.3"
  }
 },
 "nbformat": 4,
 "nbformat_minor": 4
}
